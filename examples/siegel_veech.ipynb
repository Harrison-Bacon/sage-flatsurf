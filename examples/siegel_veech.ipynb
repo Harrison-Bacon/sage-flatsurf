{
 "cells": [
  {
   "cell_type": "markdown",
   "id": "bored-rally",
   "metadata": {},
   "source": [
    "## Siegel-Veech Constants"
   ]
  },
  {
   "cell_type": "markdown",
   "id": "relative-boring",
   "metadata": {},
   "source": [
    "We count the number of cylinders of circumference at most $L$ in a surface.\n",
    "\n",
    "We start by creating a surface with [sage-flatsurf](https://github.com/flatsurf/sage-flatsurf)."
   ]
  },
  {
   "cell_type": "code",
   "execution_count": 1,
   "id": "comparative-validity",
   "metadata": {},
   "outputs": [],
   "source": [
    "from flatsurf import translation_surfaces\n",
    "S = translation_surfaces.mcmullen_L(1, 1, 1, 1)"
   ]
  },
  {
   "cell_type": "code",
   "execution_count": 2,
   "id": "opened-range",
   "metadata": {},
   "outputs": [
    {
     "data": {
      "image/png": "[encoded data removed]",
      "text/plain": [
       "Graphics object consisting of 24 graphics primitives"
      ]
     },
     "execution_count": 2,
     "metadata": {},
     "output_type": "execute_result"
    }
   ],
   "source": [
    "S.plot()"
   ]
  },
  {
   "cell_type": "markdown",
   "id": "quarterly-ceramic",
   "metadata": {},
   "source": [
    "Decomposition of a surface into cylinders is implemented in [pyflatsurf](https://github.com/flatsurf/flatsurf). We triangulate our surface and make sure that its vertices are singularities."
   ]
  },
  {
   "cell_type": "code",
   "execution_count": 3,
   "id": "fifteen-holly",
   "metadata": {},
   "outputs": [],
   "source": [
    "from flatsurf.geometry.pyflatsurf_conversion import to_pyflatsurf\n",
    "S = to_pyflatsurf(S)\n",
    "S = S.eliminateMarkedPoints().surface()"
   ]
  },
  {
   "cell_type": "markdown",
   "id": "executive-research",
   "metadata": {},
   "source": [
    "We will iterate over all directions coming from saddle connections of length at most L (ignoring connections that have the same slope.)"
   ]
  },
  {
   "cell_type": "code",
   "execution_count": 4,
   "id": "hollywood-still",
   "metadata": {},
   "outputs": [],
   "source": [
    "L = 16R\n",
    "\n",
    "directions = S.connections().bound(L).slopes()"
   ]
  },
  {
   "cell_type": "markdown",
   "id": "toxic-helping",
   "metadata": {},
   "source": [
    "For each direction we want to compute a decomposition into cylinders and minimal components. Note that sometimes our algorithm cannot decide whether a component is minimal. However, this is not an issue here: we can stop the decomposition process when a component has become so stretched out that it has no hope of producing a cylinder of circumference $≤L$ anymore.\n",
    "\n",
    "Here we define the target of the decomposition, i.e., a predicate that determines when a decomposition of a component can be stopped:"
   ]
  },
  {
   "cell_type": "code",
   "execution_count": 5,
   "id": "honest-wrapping",
   "metadata": {},
   "outputs": [],
   "source": [
    "def target(component):\n",
    "    if component.cylinder():\n",
    "        # This component is a cylinder. No further decomposition needed.\n",
    "        return True\n",
    "    if component.withoutPeriodicTrajectory():\n",
    "        # This component is minimal. Further decomposition will not produce any cylinders.\n",
    "        return True\n",
    "\n",
    "    height = component.height()\n",
    "    \n",
    "    # This height bounds the size of any cylinder. However, it is stretched by the length of the vector\n",
    "    # defining the vertical direction. (That vector is not normalized because that is hard to do in\n",
    "    # general rings…)\n",
    "    bound = (height * height) / pyflatsurf.flatsurf.Bound.upper(vertical.vertical()).squared()\n",
    "    return bound > L"
   ]
  },
  {
   "cell_type": "markdown",
   "id": "unnecessary-franchise",
   "metadata": {},
   "source": [
    "Now we perform the actual decomposition and collect the cylinders of circumference $≤L$:"
   ]
  },
  {
   "cell_type": "code",
   "execution_count": 6,
   "id": "alpha-newton",
   "metadata": {},
   "outputs": [],
   "source": [
    "circumferences = []\n",
    "\n",
    "for direction in directions:\n",
    "    from pyflatsurf import flatsurf\n",
    "    decomposition = flatsurf.makeFlowDecomposition(S, direction.vector())\n",
    "    decomposition.decompose(target)\n",
    "    for component in decomposition.components():\n",
    "        if component.cylinder():\n",
    "            circumference = component.circumferenceHolonomy()\n",
    "            if circumference > L:\n",
    "                continue\n",
    "            circumferences.append(circumference)"
   ]
  },
  {
   "cell_type": "markdown",
   "id": "committed-script",
   "metadata": {},
   "source": [
    "We will plot a histogram of all the cylinders that we found ordered by their length. It would be easy to plot this differently, weighted by the area, …"
   ]
  },
  {
   "cell_type": "code",
   "execution_count": 7,
   "id": "relevant-secretariat",
   "metadata": {},
   "outputs": [
    {
     "data": {
      "image/png": "[encoded data removed]",
      "text/plain": [
       "<Figure size 432x288 with 1 Axes>"
      ]
     },
     "metadata": {
      "needs_background": "light"
     },
     "output_type": "display_data"
    }
   ],
   "source": [
    "lengths = [sqrt(float(v.x())**2 + float(v.y())**2) for v in circumferences]\n",
    "\n",
    "import matplotlib.pyplot as plot\n",
    "_ = plot.hist(lengths)\n",
    "_ = plot.xlim(0, L)\n",
    "_ = plot.title(f\"{len(circumferences)} cylinders with length at most {L}\")\n",
    "_ = plot.xlabel('Length')\n",
    "_ = plot.ylabel('Count')"
   ]
  }
 ],
 "metadata": {
  "kernelspec": {
   "display_name": "SageMath 9.2",
   "language": "sage",
   "name": "sagemath"
  },
  "language_info": {
   "codemirror_mode": {
    "name": "ipython",
    "version": 3
   },
   "file_extension": ".py",
   "mimetype": "text/x-python",
   "name": "python",
   "nbconvert_exporter": "python",
   "pygments_lexer": "ipython3",
   "version": "3.7.6"
  }
 },
 "nbformat": 4,
 "nbformat_minor": 5
}
